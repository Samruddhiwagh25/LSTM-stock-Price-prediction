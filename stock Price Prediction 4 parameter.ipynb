{
 "cells": [
  {
   "cell_type": "code",
   "execution_count": 1,
   "id": "9f3404ff",
   "metadata": {},
   "outputs": [],
   "source": [
    "import pandas as pd\n",
    "import matplotlib.pyplot as plt\n",
    "import numpy as np"
   ]
  },
  {
   "cell_type": "code",
   "execution_count": 2,
   "id": "af0bf685",
   "metadata": {},
   "outputs": [],
   "source": [
    "df_train=pd.read_csv(\"../../datasets/stock price prediction/Google_Stock_Price_Train.csv\")\n",
    "df_test=pd.read_csv(\"../../datasets/stock price prediction/Google_Stock_Price_Test.csv\")"
   ]
  },
  {
   "cell_type": "code",
   "execution_count": 3,
   "id": "c80137a2",
   "metadata": {},
   "outputs": [
    {
     "data": {
      "text/html": [
       "<div>\n",
       "<style scoped>\n",
       "    .dataframe tbody tr th:only-of-type {\n",
       "        vertical-align: middle;\n",
       "    }\n",
       "\n",
       "    .dataframe tbody tr th {\n",
       "        vertical-align: top;\n",
       "    }\n",
       "\n",
       "    .dataframe thead th {\n",
       "        text-align: right;\n",
       "    }\n",
       "</style>\n",
       "<table border=\"1\" class=\"dataframe\">\n",
       "  <thead>\n",
       "    <tr style=\"text-align: right;\">\n",
       "      <th></th>\n",
       "      <th>Date</th>\n",
       "      <th>Open</th>\n",
       "      <th>High</th>\n",
       "      <th>Low</th>\n",
       "      <th>Close</th>\n",
       "      <th>Volume</th>\n",
       "    </tr>\n",
       "  </thead>\n",
       "  <tbody>\n",
       "    <tr>\n",
       "      <th>0</th>\n",
       "      <td>1/3/2012</td>\n",
       "      <td>325.25</td>\n",
       "      <td>332.83</td>\n",
       "      <td>324.97</td>\n",
       "      <td>663.59</td>\n",
       "      <td>7,380,500</td>\n",
       "    </tr>\n",
       "    <tr>\n",
       "      <th>1</th>\n",
       "      <td>1/4/2012</td>\n",
       "      <td>331.27</td>\n",
       "      <td>333.87</td>\n",
       "      <td>329.08</td>\n",
       "      <td>666.45</td>\n",
       "      <td>5,749,400</td>\n",
       "    </tr>\n",
       "    <tr>\n",
       "      <th>2</th>\n",
       "      <td>1/5/2012</td>\n",
       "      <td>329.83</td>\n",
       "      <td>330.75</td>\n",
       "      <td>326.89</td>\n",
       "      <td>657.21</td>\n",
       "      <td>6,590,300</td>\n",
       "    </tr>\n",
       "    <tr>\n",
       "      <th>3</th>\n",
       "      <td>1/6/2012</td>\n",
       "      <td>328.34</td>\n",
       "      <td>328.77</td>\n",
       "      <td>323.68</td>\n",
       "      <td>648.24</td>\n",
       "      <td>5,405,900</td>\n",
       "    </tr>\n",
       "    <tr>\n",
       "      <th>4</th>\n",
       "      <td>1/9/2012</td>\n",
       "      <td>322.04</td>\n",
       "      <td>322.29</td>\n",
       "      <td>309.46</td>\n",
       "      <td>620.76</td>\n",
       "      <td>11,688,800</td>\n",
       "    </tr>\n",
       "    <tr>\n",
       "      <th>...</th>\n",
       "      <td>...</td>\n",
       "      <td>...</td>\n",
       "      <td>...</td>\n",
       "      <td>...</td>\n",
       "      <td>...</td>\n",
       "      <td>...</td>\n",
       "    </tr>\n",
       "    <tr>\n",
       "      <th>1253</th>\n",
       "      <td>12/23/2016</td>\n",
       "      <td>790.90</td>\n",
       "      <td>792.74</td>\n",
       "      <td>787.28</td>\n",
       "      <td>789.91</td>\n",
       "      <td>623,400</td>\n",
       "    </tr>\n",
       "    <tr>\n",
       "      <th>1254</th>\n",
       "      <td>12/27/2016</td>\n",
       "      <td>790.68</td>\n",
       "      <td>797.86</td>\n",
       "      <td>787.66</td>\n",
       "      <td>791.55</td>\n",
       "      <td>789,100</td>\n",
       "    </tr>\n",
       "    <tr>\n",
       "      <th>1255</th>\n",
       "      <td>12/28/2016</td>\n",
       "      <td>793.70</td>\n",
       "      <td>794.23</td>\n",
       "      <td>783.20</td>\n",
       "      <td>785.05</td>\n",
       "      <td>1,153,800</td>\n",
       "    </tr>\n",
       "    <tr>\n",
       "      <th>1256</th>\n",
       "      <td>12/29/2016</td>\n",
       "      <td>783.33</td>\n",
       "      <td>785.93</td>\n",
       "      <td>778.92</td>\n",
       "      <td>782.79</td>\n",
       "      <td>744,300</td>\n",
       "    </tr>\n",
       "    <tr>\n",
       "      <th>1257</th>\n",
       "      <td>12/30/2016</td>\n",
       "      <td>782.75</td>\n",
       "      <td>782.78</td>\n",
       "      <td>770.41</td>\n",
       "      <td>771.82</td>\n",
       "      <td>1,770,000</td>\n",
       "    </tr>\n",
       "  </tbody>\n",
       "</table>\n",
       "<p>1258 rows × 6 columns</p>\n",
       "</div>"
      ],
      "text/plain": [
       "            Date    Open    High     Low   Close      Volume\n",
       "0       1/3/2012  325.25  332.83  324.97  663.59   7,380,500\n",
       "1       1/4/2012  331.27  333.87  329.08  666.45   5,749,400\n",
       "2       1/5/2012  329.83  330.75  326.89  657.21   6,590,300\n",
       "3       1/6/2012  328.34  328.77  323.68  648.24   5,405,900\n",
       "4       1/9/2012  322.04  322.29  309.46  620.76  11,688,800\n",
       "...          ...     ...     ...     ...     ...         ...\n",
       "1253  12/23/2016  790.90  792.74  787.28  789.91     623,400\n",
       "1254  12/27/2016  790.68  797.86  787.66  791.55     789,100\n",
       "1255  12/28/2016  793.70  794.23  783.20  785.05   1,153,800\n",
       "1256  12/29/2016  783.33  785.93  778.92  782.79     744,300\n",
       "1257  12/30/2016  782.75  782.78  770.41  771.82   1,770,000\n",
       "\n",
       "[1258 rows x 6 columns]"
      ]
     },
     "execution_count": 3,
     "metadata": {},
     "output_type": "execute_result"
    }
   ],
   "source": [
    "df_train"
   ]
  },
  {
   "cell_type": "code",
   "execution_count": 4,
   "id": "6e82fa42",
   "metadata": {},
   "outputs": [],
   "source": [
    "df_train['Volume'] = df_train['Volume'].str.replace(',', '').astype(float)\n"
   ]
  },
  {
   "cell_type": "code",
   "execution_count": 5,
   "id": "029a29b1",
   "metadata": {},
   "outputs": [
    {
     "name": "stdout",
     "output_type": "stream",
     "text": [
      "<class 'pandas.core.frame.DataFrame'>\n",
      "RangeIndex: 1258 entries, 0 to 1257\n",
      "Data columns (total 6 columns):\n",
      " #   Column  Non-Null Count  Dtype  \n",
      "---  ------  --------------  -----  \n",
      " 0   Date    1258 non-null   object \n",
      " 1   Open    1258 non-null   float64\n",
      " 2   High    1258 non-null   float64\n",
      " 3   Low     1258 non-null   float64\n",
      " 4   Close   1258 non-null   object \n",
      " 5   Volume  1258 non-null   float64\n",
      "dtypes: float64(4), object(2)\n",
      "memory usage: 59.1+ KB\n"
     ]
    }
   ],
   "source": [
    "df_train.info()"
   ]
  },
  {
   "cell_type": "code",
   "execution_count": 6,
   "id": "02195cf8",
   "metadata": {},
   "outputs": [],
   "source": [
    "x=df_train[['Open','High','Low','Volume']]"
   ]
  },
  {
   "cell_type": "code",
   "execution_count": 7,
   "id": "9bd18924",
   "metadata": {},
   "outputs": [
    {
     "data": {
      "text/plain": [
       "0        7380500.0\n",
       "1        5749400.0\n",
       "2        6590300.0\n",
       "3        5405900.0\n",
       "4       11688800.0\n",
       "           ...    \n",
       "1253      623400.0\n",
       "1254      789100.0\n",
       "1255     1153800.0\n",
       "1256      744300.0\n",
       "1257     1770000.0\n",
       "Name: Volume, Length: 1258, dtype: float64"
      ]
     },
     "execution_count": 7,
     "metadata": {},
     "output_type": "execute_result"
    }
   ],
   "source": [
    "df_train['Volume']"
   ]
  },
  {
   "cell_type": "code",
   "execution_count": 8,
   "id": "a5ec1b02",
   "metadata": {},
   "outputs": [],
   "source": [
    "from sklearn.preprocessing import MinMaxScaler\n",
    "scaler=MinMaxScaler()\n",
    "scaler.fit(x)\n",
    "x_train_scaled=scaler.transform(x)"
   ]
  },
  {
   "cell_type": "code",
   "execution_count": 9,
   "id": "f1b928f8",
   "metadata": {},
   "outputs": [
    {
     "data": {
      "text/plain": [
       "(1258, 4)"
      ]
     },
     "execution_count": 9,
     "metadata": {},
     "output_type": "execute_result"
    }
   ],
   "source": [
    "x_train_scaled.shape"
   ]
  },
  {
   "cell_type": "code",
   "execution_count": 10,
   "id": "4c083c18",
   "metadata": {},
   "outputs": [
    {
     "data": {
      "text/plain": [
       "array([[0.08581368, 0.09640129, 0.09044931, 0.29525831],\n",
       "       [0.09701243, 0.09834351, 0.09823458, 0.22993592],\n",
       "       [0.09433366, 0.09251685, 0.09408623, 0.26361233],\n",
       "       ...,\n",
       "       [0.95725128, 0.95807422, 0.95844067, 0.04589107],\n",
       "       [0.93796041, 0.94257381, 0.95033338, 0.02949139],\n",
       "       [0.93688146, 0.93669113, 0.93421352, 0.07056868]])"
      ]
     },
     "execution_count": 10,
     "metadata": {},
     "output_type": "execute_result"
    }
   ],
   "source": [
    "x_train_scaled"
   ]
  },
  {
   "cell_type": "code",
   "execution_count": 14,
   "id": "0f440d46",
   "metadata": {},
   "outputs": [
    {
     "data": {
      "text/plain": [
       "((1198, 60, 4), (1198, 4))"
      ]
     },
     "execution_count": 14,
     "metadata": {},
     "output_type": "execute_result"
    }
   ],
   "source": [
    "rows=[]\n",
    "y_train=[]\n",
    "for i in range(1198):#(1258 rows-60 days)\n",
    "    row=x_train_scaled[i:60+i,:]\n",
    "    rows.append(row)\n",
    "    y_train.append(x_train_scaled[60+i,:])\n",
    "x_train=np.array(rows)\n",
    "y_train=np.array(y_train)\n",
    "x_train.shape,y_train.shape"
   ]
  },
  {
   "cell_type": "code",
   "execution_count": 15,
   "id": "e3c4f612",
   "metadata": {},
   "outputs": [
    {
     "data": {
      "text/plain": [
       "array([[0.08581368, 0.09640129, 0.09044931, 0.29525831],\n",
       "       [0.09701243, 0.09834351, 0.09823458, 0.22993592],\n",
       "       [0.09433366, 0.09251685, 0.09408623, 0.26361233],\n",
       "       [0.09156187, 0.08881917, 0.08800576, 0.21617942],\n",
       "       [0.07984225, 0.07671765, 0.06106986, 0.46779736],\n",
       "       [0.0643277 , 0.06444805, 0.05697833, 0.35306768],\n",
       "       [0.0585423 , 0.06033951, 0.06095621, 0.19262715],\n",
       "       [0.06568569, 0.063589  , 0.06603273, 0.15044053],\n",
       "       [0.06109085, 0.05806114, 0.06089938, 0.18517821],\n",
       "       [0.06639259, 0.06274861, 0.0652561 , 0.15317982],\n",
       "       [0.0614257 , 0.06463481, 0.06190332, 0.22171005],\n",
       "       [0.07474514, 0.07113377, 0.07071147, 0.50660392],\n",
       "       [0.02797827, 0.02463257, 0.0237536 , 0.84997597],\n",
       "       [0.02379269, 0.02244757, 0.02513638, 0.27406488],\n",
       "       [0.02409033, 0.02153249, 0.02026822, 0.24535443],\n",
       "       [0.0159238 , 0.01318468, 0.00930065, 0.40067281],\n",
       "       [0.01078949, 0.00926289, 0.00757691, 0.25905487],\n",
       "       [0.00967334, 0.01469737, 0.01208516, 0.29051262],\n",
       "       [0.01642607, 0.01439857, 0.01593044, 0.18704445],\n",
       "       [0.02100231, 0.01811493, 0.01757842, 0.1719183 ],\n",
       "       [0.02280676, 0.01951557, 0.02134793, 0.18625551],\n",
       "       [0.02273235, 0.02035595, 0.0241135 , 0.19381258],\n",
       "       [0.02810849, 0.03027247, 0.0297583 , 0.2544173 ],\n",
       "       [0.03212665, 0.04306497, 0.03538415, 0.29550661],\n",
       "       [0.0433812 , 0.04173903, 0.04457115, 0.16787345],\n",
       "       [0.04475779, 0.04355053, 0.04549932, 0.14731678],\n",
       "       [0.04790163, 0.04648253, 0.04951508, 0.1817541 ],\n",
       "       [0.0440695 , 0.0405625 , 0.04479845, 0.18661594],\n",
       "       [0.04648783, 0.04586625, 0.05048113, 0.14570284],\n",
       "       [0.04745517, 0.04416681, 0.04551826, 0.14469363],\n",
       "       [0.04873875, 0.04502587, 0.04343461, 0.19471366],\n",
       "       [0.03936305, 0.04119745, 0.03888847, 0.20315579],\n",
       "       [0.04137213, 0.04009562, 0.04330202, 0.19657589],\n",
       "       [0.04034898, 0.04963864, 0.04373769, 0.19912695],\n",
       "       [0.04784582, 0.0486115 , 0.04735566, 0.15782139],\n",
       "       [0.04325099, 0.04037574, 0.04135096, 0.16489387],\n",
       "       [0.04356723, 0.04383065, 0.04621912, 0.15529435],\n",
       "       [0.04286033, 0.04450296, 0.04580239, 0.14551061],\n",
       "       [0.04602277, 0.0513941 , 0.04828383, 0.22861434],\n",
       "       [0.05398467, 0.05680991, 0.05565237, 0.25187425],\n",
       "       [0.05738894, 0.05690328, 0.05815275, 0.1795795 ],\n",
       "       [0.05714711, 0.05531589, 0.06019851, 0.1261674 ],\n",
       "       [0.05569611, 0.05391525, 0.05176921, 0.12777333],\n",
       "       [0.04421832, 0.04119745, 0.03521367, 0.25488987],\n",
       "       [0.04514845, 0.04340112, 0.04656008, 0.10134161],\n",
       "       [0.04605997, 0.04369993, 0.0470147 , 0.10784942],\n",
       "       [0.04412531, 0.04407343, 0.04102894, 0.21438526],\n",
       "       [0.03675869, 0.03951669, 0.04032808, 0.13386063],\n",
       "       [0.04486941, 0.04960128, 0.04625701, 0.18023228],\n",
       "       [0.05065481, 0.05419538, 0.05372026, 0.23579495],\n",
       "       [0.05214302, 0.05486769, 0.05502728, 0.19545054],\n",
       "       [0.05612397, 0.05710871, 0.05995227, 0.24492992],\n",
       "       [0.05818885, 0.06767886, 0.06106986, 0.17436524],\n",
       "       [0.06540665, 0.06653968, 0.06675254, 0.12352823],\n",
       "       [0.06882953, 0.07709115, 0.07169647, 0.19822587],\n",
       "       [0.07243843, 0.07839842, 0.0702758 , 0.19345214],\n",
       "       [0.07993526, 0.07811829, 0.07961434, 0.1556628 ],\n",
       "       [0.07846566, 0.07903337, 0.0783452 , 0.14593512],\n",
       "       [0.08034452, 0.08276841, 0.08330808, 0.16105326],\n",
       "       [0.08497656, 0.08751191, 0.08921806, 0.20379656]])"
      ]
     },
     "execution_count": 15,
     "metadata": {},
     "output_type": "execute_result"
    }
   ],
   "source": [
    "x_train[0]"
   ]
  },
  {
   "cell_type": "code",
   "execution_count": 16,
   "id": "9cdc2993",
   "metadata": {},
   "outputs": [
    {
     "data": {
      "text/plain": [
       "array([[[0.08581368, 0.09640129, 0.09044931, 0.29525831],\n",
       "        [0.09701243, 0.09834351, 0.09823458, 0.22993592],\n",
       "        [0.09433366, 0.09251685, 0.09408623, 0.26361233],\n",
       "        ...,\n",
       "        [0.07846566, 0.07903337, 0.0783452 , 0.14593512],\n",
       "        [0.08034452, 0.08276841, 0.08330808, 0.16105326],\n",
       "        [0.08497656, 0.08751191, 0.08921806, 0.20379656]],\n",
       "\n",
       "       [[0.09701243, 0.09834351, 0.09823458, 0.22993592],\n",
       "        [0.09433366, 0.09251685, 0.09408623, 0.26361233],\n",
       "        [0.09156187, 0.08881917, 0.08800576, 0.21617942],\n",
       "        ...,\n",
       "        [0.08034452, 0.08276841, 0.08330808, 0.16105326],\n",
       "        [0.08497656, 0.08751191, 0.08921806, 0.20379656],\n",
       "        [0.08627874, 0.08564439, 0.08283452, 0.15438526]],\n",
       "\n",
       "       [[0.09433366, 0.09251685, 0.09408623, 0.26361233],\n",
       "        [0.09156187, 0.08881917, 0.08800576, 0.21617942],\n",
       "        [0.07984225, 0.07671765, 0.06106986, 0.46779736],\n",
       "        ...,\n",
       "        [0.08497656, 0.08751191, 0.08921806, 0.20379656],\n",
       "        [0.08627874, 0.08564439, 0.08283452, 0.15438526],\n",
       "        [0.08471612, 0.08274973, 0.07970905, 0.18545455]],\n",
       "\n",
       "       ...,\n",
       "\n",
       "       [[0.92106928, 0.92416008, 0.93248977, 0.05089708],\n",
       "        [0.92438053, 0.92909033, 0.9389112 , 0.04779736],\n",
       "        [0.93048218, 0.93536519, 0.94413926, 0.05820184],\n",
       "        ...,\n",
       "        [0.95475854, 0.95637477, 0.96863161, 0.03861834],\n",
       "        [0.95204256, 0.95529161, 0.96616912, 0.02464958],\n",
       "        [0.95163331, 0.96485331, 0.96688892, 0.03128554]],\n",
       "\n",
       "       [[0.92438053, 0.92909033, 0.9389112 , 0.04779736],\n",
       "        [0.93048218, 0.93536519, 0.94413926, 0.05820184],\n",
       "        [0.9299055 , 0.93239584, 0.9439309 , 0.04256308],\n",
       "        ...,\n",
       "        [0.95204256, 0.95529161, 0.96616912, 0.02464958],\n",
       "        [0.95163331, 0.96485331, 0.96688892, 0.03128554],\n",
       "        [0.95725128, 0.95807422, 0.95844067, 0.04589107]],\n",
       "\n",
       "       [[0.93048218, 0.93536519, 0.94413926, 0.05820184],\n",
       "        [0.9299055 , 0.93239584, 0.9439309 , 0.04256308],\n",
       "        [0.93113327, 0.93086447, 0.93485755, 0.03705647],\n",
       "        ...,\n",
       "        [0.95163331, 0.96485331, 0.96688892, 0.03128554],\n",
       "        [0.95725128, 0.95807422, 0.95844067, 0.04589107],\n",
       "        [0.93796041, 0.94257381, 0.95033338, 0.02949139]]])"
      ]
     },
     "execution_count": 16,
     "metadata": {},
     "output_type": "execute_result"
    }
   ],
   "source": [
    "x_train.reshape(x_train.shape[0],x_train.shape[1],4)\n",
    "#x_train=x_train.reshape(1198,60,4)"
   ]
  },
  {
   "cell_type": "code",
   "execution_count": 17,
   "id": "c2502c56",
   "metadata": {},
   "outputs": [],
   "source": [
    "from tensorflow.keras.models import Sequential"
   ]
  },
  {
   "cell_type": "code",
   "execution_count": 18,
   "id": "26a2aa51",
   "metadata": {},
   "outputs": [],
   "source": [
    "from tensorflow.keras.layers import LSTM,Dense"
   ]
  },
  {
   "cell_type": "code",
   "execution_count": 21,
   "id": "6723977f",
   "metadata": {},
   "outputs": [],
   "source": [
    "model=Sequential()\n",
    "model.add(LSTM(50,return_sequences=True,input_shape=(x_train.shape[1], 4)))\n",
    "model.add(LSTM(50,return_sequences=True))\n",
    "model.add(LSTM(50,return_sequences=True))\n",
    "model.add(LSTM(40,return_sequences=False))\n",
    "model.add(Dense(1))\n",
    "model.compile(loss='mean_squared_error')"
   ]
  },
  {
   "cell_type": "code",
   "execution_count": 22,
   "id": "efa18d12",
   "metadata": {},
   "outputs": [
    {
     "name": "stdout",
     "output_type": "stream",
     "text": [
      "Epoch 1/64\n",
      "38/38 [==============================] - 10s 90ms/step - loss: 0.0600\n",
      "Epoch 2/64\n",
      "38/38 [==============================] - 3s 70ms/step - loss: 0.0521\n",
      "Epoch 3/64\n",
      "38/38 [==============================] - 3s 73ms/step - loss: 0.0516\n",
      "Epoch 4/64\n",
      "38/38 [==============================] - 3s 70ms/step - loss: 0.0513\n",
      "Epoch 5/64\n",
      "38/38 [==============================] - 3s 74ms/step - loss: 0.0504\n",
      "Epoch 6/64\n",
      "38/38 [==============================] - 3s 68ms/step - loss: 0.0503\n",
      "Epoch 7/64\n",
      "38/38 [==============================] - 3s 68ms/step - loss: 0.0501\n",
      "Epoch 8/64\n",
      "38/38 [==============================] - 3s 68ms/step - loss: 0.0494\n",
      "Epoch 9/64\n",
      "38/38 [==============================] - 3s 67ms/step - loss: 0.0495\n",
      "Epoch 10/64\n",
      "38/38 [==============================] - 3s 69ms/step - loss: 0.0496\n",
      "Epoch 11/64\n",
      "38/38 [==============================] - 3s 68ms/step - loss: 0.0496\n",
      "Epoch 12/64\n",
      "38/38 [==============================] - 3s 68ms/step - loss: 0.0493\n",
      "Epoch 13/64\n",
      "38/38 [==============================] - 3s 71ms/step - loss: 0.0491\n",
      "Epoch 14/64\n",
      "38/38 [==============================] - 3s 86ms/step - loss: 0.0491\n",
      "Epoch 15/64\n",
      "38/38 [==============================] - 3s 75ms/step - loss: 0.0495\n",
      "Epoch 16/64\n",
      "38/38 [==============================] - 3s 76ms/step - loss: 0.0488\n",
      "Epoch 17/64\n",
      "38/38 [==============================] - 3s 76ms/step - loss: 0.0489\n",
      "Epoch 18/64\n",
      "38/38 [==============================] - 3s 76ms/step - loss: 0.0487\n",
      "Epoch 19/64\n",
      "38/38 [==============================] - 3s 76ms/step - loss: 0.0488\n",
      "Epoch 20/64\n",
      "38/38 [==============================] - 3s 79ms/step - loss: 0.0489\n",
      "Epoch 21/64\n",
      "38/38 [==============================] - 3s 77ms/step - loss: 0.0484\n",
      "Epoch 22/64\n",
      "38/38 [==============================] - 3s 79ms/step - loss: 0.0486\n",
      "Epoch 23/64\n",
      "38/38 [==============================] - 3s 75ms/step - loss: 0.0486\n",
      "Epoch 24/64\n",
      "38/38 [==============================] - 3s 75ms/step - loss: 0.0486\n",
      "Epoch 25/64\n",
      "38/38 [==============================] - 3s 76ms/step - loss: 0.0484\n",
      "Epoch 26/64\n",
      "38/38 [==============================] - 3s 75ms/step - loss: 0.0485\n",
      "Epoch 27/64\n",
      "38/38 [==============================] - 3s 75ms/step - loss: 0.0485\n",
      "Epoch 28/64\n",
      "38/38 [==============================] - 3s 76ms/step - loss: 0.0484\n",
      "Epoch 29/64\n",
      "38/38 [==============================] - 3s 74ms/step - loss: 0.0484\n",
      "Epoch 30/64\n",
      "38/38 [==============================] - 3s 74ms/step - loss: 0.0483\n",
      "Epoch 31/64\n",
      "38/38 [==============================] - 3s 75ms/step - loss: 0.0483\n",
      "Epoch 32/64\n",
      "38/38 [==============================] - 3s 75ms/step - loss: 0.0483\n",
      "Epoch 33/64\n",
      "38/38 [==============================] - 3s 75ms/step - loss: 0.0484\n",
      "Epoch 34/64\n",
      "38/38 [==============================] - 3s 75ms/step - loss: 0.0482\n",
      "Epoch 35/64\n",
      "38/38 [==============================] - 3s 75ms/step - loss: 0.0483\n",
      "Epoch 36/64\n",
      "38/38 [==============================] - 3s 83ms/step - loss: 0.0481\n",
      "Epoch 37/64\n",
      "38/38 [==============================] - 3s 80ms/step - loss: 0.0483\n",
      "Epoch 38/64\n",
      "38/38 [==============================] - 3s 83ms/step - loss: 0.0481\n",
      "Epoch 39/64\n",
      "38/38 [==============================] - 3s 78ms/step - loss: 0.0482\n",
      "Epoch 40/64\n",
      "38/38 [==============================] - 3s 75ms/step - loss: 0.0482\n",
      "Epoch 41/64\n",
      "38/38 [==============================] - 3s 75ms/step - loss: 0.0483\n",
      "Epoch 42/64\n",
      "38/38 [==============================] - 3s 76ms/step - loss: 0.0481\n",
      "Epoch 43/64\n",
      "38/38 [==============================] - 3s 81ms/step - loss: 0.0481\n",
      "Epoch 44/64\n",
      "38/38 [==============================] - 3s 91ms/step - loss: 0.0481\n",
      "Epoch 45/64\n",
      "38/38 [==============================] - 3s 88ms/step - loss: 0.0481\n",
      "Epoch 46/64\n",
      "38/38 [==============================] - 3s 79ms/step - loss: 0.0480\n",
      "Epoch 47/64\n",
      "38/38 [==============================] - 3s 77ms/step - loss: 0.0480\n",
      "Epoch 48/64\n",
      "38/38 [==============================] - 3s 79ms/step - loss: 0.0480\n",
      "Epoch 49/64\n",
      "38/38 [==============================] - 3s 75ms/step - loss: 0.0480\n",
      "Epoch 50/64\n",
      "38/38 [==============================] - 3s 73ms/step - loss: 0.0481\n",
      "Epoch 51/64\n",
      "38/38 [==============================] - 3s 73ms/step - loss: 0.0480\n",
      "Epoch 52/64\n",
      "38/38 [==============================] - 3s 74ms/step - loss: 0.0482\n",
      "Epoch 53/64\n",
      "38/38 [==============================] - 3s 75ms/step - loss: 0.0480\n",
      "Epoch 54/64\n",
      "38/38 [==============================] - 3s 77ms/step - loss: 0.0481\n",
      "Epoch 55/64\n",
      "38/38 [==============================] - 3s 78ms/step - loss: 0.0479\n",
      "Epoch 56/64\n",
      "38/38 [==============================] - 3s 75ms/step - loss: 0.0480\n",
      "Epoch 57/64\n",
      "38/38 [==============================] - 3s 77ms/step - loss: 0.0480\n",
      "Epoch 58/64\n",
      "38/38 [==============================] - 3s 78ms/step - loss: 0.0479\n",
      "Epoch 59/64\n",
      "38/38 [==============================] - 3s 90ms/step - loss: 0.0480\n",
      "Epoch 60/64\n",
      "38/38 [==============================] - 3s 84ms/step - loss: 0.0479\n",
      "Epoch 61/64\n",
      "38/38 [==============================] - 3s 76ms/step - loss: 0.0480\n",
      "Epoch 62/64\n",
      "38/38 [==============================] - 3s 82ms/step - loss: 0.0479\n",
      "Epoch 63/64\n",
      "38/38 [==============================] - 3s 78ms/step - loss: 0.0480\n",
      "Epoch 64/64\n",
      "38/38 [==============================] - 3s 76ms/step - loss: 0.0478\n"
     ]
    },
    {
     "data": {
      "text/plain": [
       "<keras.src.callbacks.History at 0x17a05303f10>"
      ]
     },
     "execution_count": 22,
     "metadata": {},
     "output_type": "execute_result"
    }
   ],
   "source": [
    "model.fit(x_train,y_train,batch_size=32,epochs=64)"
   ]
  },
  {
   "cell_type": "code",
   "execution_count": 23,
   "id": "f9230174",
   "metadata": {},
   "outputs": [
    {
     "data": {
      "text/html": [
       "<div>\n",
       "<style scoped>\n",
       "    .dataframe tbody tr th:only-of-type {\n",
       "        vertical-align: middle;\n",
       "    }\n",
       "\n",
       "    .dataframe tbody tr th {\n",
       "        vertical-align: top;\n",
       "    }\n",
       "\n",
       "    .dataframe thead th {\n",
       "        text-align: right;\n",
       "    }\n",
       "</style>\n",
       "<table border=\"1\" class=\"dataframe\">\n",
       "  <thead>\n",
       "    <tr style=\"text-align: right;\">\n",
       "      <th></th>\n",
       "      <th>Date</th>\n",
       "      <th>Open</th>\n",
       "      <th>High</th>\n",
       "      <th>Low</th>\n",
       "      <th>Close</th>\n",
       "      <th>Volume</th>\n",
       "    </tr>\n",
       "  </thead>\n",
       "  <tbody>\n",
       "    <tr>\n",
       "      <th>0</th>\n",
       "      <td>1/3/2017</td>\n",
       "      <td>778.81</td>\n",
       "      <td>789.63</td>\n",
       "      <td>775.80</td>\n",
       "      <td>786.14</td>\n",
       "      <td>1,657,300</td>\n",
       "    </tr>\n",
       "    <tr>\n",
       "      <th>1</th>\n",
       "      <td>1/4/2017</td>\n",
       "      <td>788.36</td>\n",
       "      <td>791.34</td>\n",
       "      <td>783.16</td>\n",
       "      <td>786.90</td>\n",
       "      <td>1,073,000</td>\n",
       "    </tr>\n",
       "    <tr>\n",
       "      <th>2</th>\n",
       "      <td>1/5/2017</td>\n",
       "      <td>786.08</td>\n",
       "      <td>794.48</td>\n",
       "      <td>785.02</td>\n",
       "      <td>794.02</td>\n",
       "      <td>1,335,200</td>\n",
       "    </tr>\n",
       "    <tr>\n",
       "      <th>3</th>\n",
       "      <td>1/6/2017</td>\n",
       "      <td>795.26</td>\n",
       "      <td>807.90</td>\n",
       "      <td>792.20</td>\n",
       "      <td>806.15</td>\n",
       "      <td>1,640,200</td>\n",
       "    </tr>\n",
       "    <tr>\n",
       "      <th>4</th>\n",
       "      <td>1/9/2017</td>\n",
       "      <td>806.40</td>\n",
       "      <td>809.97</td>\n",
       "      <td>802.83</td>\n",
       "      <td>806.65</td>\n",
       "      <td>1,272,400</td>\n",
       "    </tr>\n",
       "    <tr>\n",
       "      <th>5</th>\n",
       "      <td>1/10/2017</td>\n",
       "      <td>807.86</td>\n",
       "      <td>809.13</td>\n",
       "      <td>803.51</td>\n",
       "      <td>804.79</td>\n",
       "      <td>1,176,800</td>\n",
       "    </tr>\n",
       "    <tr>\n",
       "      <th>6</th>\n",
       "      <td>1/11/2017</td>\n",
       "      <td>805.00</td>\n",
       "      <td>808.15</td>\n",
       "      <td>801.37</td>\n",
       "      <td>807.91</td>\n",
       "      <td>1,065,900</td>\n",
       "    </tr>\n",
       "    <tr>\n",
       "      <th>7</th>\n",
       "      <td>1/12/2017</td>\n",
       "      <td>807.14</td>\n",
       "      <td>807.39</td>\n",
       "      <td>799.17</td>\n",
       "      <td>806.36</td>\n",
       "      <td>1,353,100</td>\n",
       "    </tr>\n",
       "    <tr>\n",
       "      <th>8</th>\n",
       "      <td>1/13/2017</td>\n",
       "      <td>807.48</td>\n",
       "      <td>811.22</td>\n",
       "      <td>806.69</td>\n",
       "      <td>807.88</td>\n",
       "      <td>1,099,200</td>\n",
       "    </tr>\n",
       "    <tr>\n",
       "      <th>9</th>\n",
       "      <td>1/17/2017</td>\n",
       "      <td>807.08</td>\n",
       "      <td>807.14</td>\n",
       "      <td>800.37</td>\n",
       "      <td>804.61</td>\n",
       "      <td>1,362,100</td>\n",
       "    </tr>\n",
       "    <tr>\n",
       "      <th>10</th>\n",
       "      <td>1/18/2017</td>\n",
       "      <td>805.81</td>\n",
       "      <td>806.21</td>\n",
       "      <td>800.99</td>\n",
       "      <td>806.07</td>\n",
       "      <td>1,294,400</td>\n",
       "    </tr>\n",
       "    <tr>\n",
       "      <th>11</th>\n",
       "      <td>1/19/2017</td>\n",
       "      <td>805.12</td>\n",
       "      <td>809.48</td>\n",
       "      <td>801.80</td>\n",
       "      <td>802.17</td>\n",
       "      <td>919,300</td>\n",
       "    </tr>\n",
       "    <tr>\n",
       "      <th>12</th>\n",
       "      <td>1/20/2017</td>\n",
       "      <td>806.91</td>\n",
       "      <td>806.91</td>\n",
       "      <td>801.69</td>\n",
       "      <td>805.02</td>\n",
       "      <td>1,670,000</td>\n",
       "    </tr>\n",
       "    <tr>\n",
       "      <th>13</th>\n",
       "      <td>1/23/2017</td>\n",
       "      <td>807.25</td>\n",
       "      <td>820.87</td>\n",
       "      <td>803.74</td>\n",
       "      <td>819.31</td>\n",
       "      <td>1,963,600</td>\n",
       "    </tr>\n",
       "    <tr>\n",
       "      <th>14</th>\n",
       "      <td>1/24/2017</td>\n",
       "      <td>822.30</td>\n",
       "      <td>825.90</td>\n",
       "      <td>817.82</td>\n",
       "      <td>823.87</td>\n",
       "      <td>1,474,000</td>\n",
       "    </tr>\n",
       "    <tr>\n",
       "      <th>15</th>\n",
       "      <td>1/25/2017</td>\n",
       "      <td>829.62</td>\n",
       "      <td>835.77</td>\n",
       "      <td>825.06</td>\n",
       "      <td>835.67</td>\n",
       "      <td>1,494,500</td>\n",
       "    </tr>\n",
       "    <tr>\n",
       "      <th>16</th>\n",
       "      <td>1/26/2017</td>\n",
       "      <td>837.81</td>\n",
       "      <td>838.00</td>\n",
       "      <td>827.01</td>\n",
       "      <td>832.15</td>\n",
       "      <td>2,973,900</td>\n",
       "    </tr>\n",
       "    <tr>\n",
       "      <th>17</th>\n",
       "      <td>1/27/2017</td>\n",
       "      <td>834.71</td>\n",
       "      <td>841.95</td>\n",
       "      <td>820.44</td>\n",
       "      <td>823.31</td>\n",
       "      <td>2,965,800</td>\n",
       "    </tr>\n",
       "    <tr>\n",
       "      <th>18</th>\n",
       "      <td>1/30/2017</td>\n",
       "      <td>814.66</td>\n",
       "      <td>815.84</td>\n",
       "      <td>799.80</td>\n",
       "      <td>802.32</td>\n",
       "      <td>3,246,600</td>\n",
       "    </tr>\n",
       "    <tr>\n",
       "      <th>19</th>\n",
       "      <td>1/31/2017</td>\n",
       "      <td>796.86</td>\n",
       "      <td>801.25</td>\n",
       "      <td>790.52</td>\n",
       "      <td>796.79</td>\n",
       "      <td>2,160,600</td>\n",
       "    </tr>\n",
       "  </tbody>\n",
       "</table>\n",
       "</div>"
      ],
      "text/plain": [
       "         Date    Open    High     Low   Close     Volume\n",
       "0    1/3/2017  778.81  789.63  775.80  786.14  1,657,300\n",
       "1    1/4/2017  788.36  791.34  783.16  786.90  1,073,000\n",
       "2    1/5/2017  786.08  794.48  785.02  794.02  1,335,200\n",
       "3    1/6/2017  795.26  807.90  792.20  806.15  1,640,200\n",
       "4    1/9/2017  806.40  809.97  802.83  806.65  1,272,400\n",
       "5   1/10/2017  807.86  809.13  803.51  804.79  1,176,800\n",
       "6   1/11/2017  805.00  808.15  801.37  807.91  1,065,900\n",
       "7   1/12/2017  807.14  807.39  799.17  806.36  1,353,100\n",
       "8   1/13/2017  807.48  811.22  806.69  807.88  1,099,200\n",
       "9   1/17/2017  807.08  807.14  800.37  804.61  1,362,100\n",
       "10  1/18/2017  805.81  806.21  800.99  806.07  1,294,400\n",
       "11  1/19/2017  805.12  809.48  801.80  802.17    919,300\n",
       "12  1/20/2017  806.91  806.91  801.69  805.02  1,670,000\n",
       "13  1/23/2017  807.25  820.87  803.74  819.31  1,963,600\n",
       "14  1/24/2017  822.30  825.90  817.82  823.87  1,474,000\n",
       "15  1/25/2017  829.62  835.77  825.06  835.67  1,494,500\n",
       "16  1/26/2017  837.81  838.00  827.01  832.15  2,973,900\n",
       "17  1/27/2017  834.71  841.95  820.44  823.31  2,965,800\n",
       "18  1/30/2017  814.66  815.84  799.80  802.32  3,246,600\n",
       "19  1/31/2017  796.86  801.25  790.52  796.79  2,160,600"
      ]
     },
     "execution_count": 23,
     "metadata": {},
     "output_type": "execute_result"
    }
   ],
   "source": [
    "df_test"
   ]
  },
  {
   "cell_type": "code",
   "execution_count": 24,
   "id": "253bf86b",
   "metadata": {},
   "outputs": [
    {
     "data": {
      "text/plain": [
       "array([[0.92955205, 0.94948363, 0.9444234 , 0.06605527],\n",
       "       [0.94731751, 0.95267709, 0.9583649 , 0.04265519],\n",
       "       [0.94307612, 0.95854109, 0.96188816, 0.05315579],\n",
       "       [0.96015329, 0.98360319, 0.97548871, 0.06537044],\n",
       "       [0.98087655, 0.98746895, 0.99562434, 0.05064077],\n",
       "       [0.98359253, 0.98590024, 0.99691241, 0.04681217],\n",
       "       [0.97827219, 0.98407007, 0.99285877, 0.04237085],\n",
       "       [0.98225314, 0.98265076, 0.98869147, 0.05387265],\n",
       "       [0.98288563, 0.98980335, 1.00293605, 0.04370445],\n",
       "       [0.98214153, 0.98218388, 0.99096454, 0.05423308],\n",
       "       [0.979779  , 0.98044708, 0.99213896, 0.05152183],\n",
       "       [0.97849542, 0.98655387, 0.99367328, 0.0364998 ],\n",
       "       [0.98182528, 0.98175435, 0.99346492, 0.06656388],\n",
       "       [0.98245777, 1.0078249 , 0.99734808, 0.07832199],\n",
       "       [1.01045465, 1.01721852, 1.02401879, 0.05871446],\n",
       "       [1.02407173, 1.03565092, 1.03773299, 0.05953544],\n",
       "       [1.03930724, 1.03981549, 1.04142673, 0.11878254],\n",
       "       [1.03354044, 1.04719219, 1.02898166, 0.11845815],\n",
       "       [0.99624228, 0.99843128, 0.98988483, 0.12970364],\n",
       "       [0.9631297 , 0.97118419, 0.97230641, 0.08621145]])"
      ]
     },
     "execution_count": 24,
     "metadata": {},
     "output_type": "execute_result"
    }
   ],
   "source": [
    "df_test['Volume'] = df_test['Volume'].str.replace(',', '').astype(float)\n",
    "\n",
    "x_test_scaled=scaler.transform(df_test[['Open','High','Low','Volume']])\n",
    "x_test_scaled"
   ]
  },
  {
   "cell_type": "code",
   "execution_count": 25,
   "id": "7ccc829d",
   "metadata": {},
   "outputs": [],
   "source": [
    "x_test=np.vstack([x_train_scaled[-60:],x_test_scaled])"
   ]
  },
  {
   "cell_type": "code",
   "execution_count": 26,
   "id": "f23b2de6",
   "metadata": {},
   "outputs": [
    {
     "data": {
      "text/plain": [
       "(80, 4)"
      ]
     },
     "execution_count": 26,
     "metadata": {},
     "output_type": "execute_result"
    }
   ],
   "source": [
    "x_test.shape"
   ]
  },
  {
   "cell_type": "code",
   "execution_count": 27,
   "id": "f734e431",
   "metadata": {},
   "outputs": [
    {
     "data": {
      "text/plain": [
       "(20, 60, 4)"
      ]
     },
     "execution_count": 27,
     "metadata": {},
     "output_type": "execute_result"
    }
   ],
   "source": [
    "rows=[]\n",
    "\n",
    "for i in range(20):\n",
    "    row=x_test[i:60+i,:]\n",
    "    rows.append(row)\n",
    "x_test=np.array(rows)\n",
    "\n",
    "x_test.shape"
   ]
  },
  {
   "cell_type": "code",
   "execution_count": 28,
   "id": "6b5d1486",
   "metadata": {},
   "outputs": [],
   "source": [
    "x_test=x_test.reshape(20,60,4)"
   ]
  },
  {
   "cell_type": "code",
   "execution_count": 29,
   "id": "8bfe195d",
   "metadata": {},
   "outputs": [
    {
     "name": "stdout",
     "output_type": "stream",
     "text": [
      "1/1 [==============================] - 1s 1s/step\n"
     ]
    }
   ],
   "source": [
    "yp=model.predict(x_test)"
   ]
  },
  {
   "cell_type": "code",
   "execution_count": 30,
   "id": "d358c568",
   "metadata": {},
   "outputs": [
    {
     "data": {
      "text/plain": [
       "array([[0.72560155],\n",
       "       [0.7230146 ],\n",
       "       [0.7206355 ],\n",
       "       [0.7188543 ],\n",
       "       [0.7182613 ],\n",
       "       [0.71928316],\n",
       "       [0.72177213],\n",
       "       [0.7251404 ],\n",
       "       [0.7288018 ],\n",
       "       [0.732449  ],\n",
       "       [0.73569125],\n",
       "       [0.73828375],\n",
       "       [0.74016684],\n",
       "       [0.7414559 ],\n",
       "       [0.74251646],\n",
       "       [0.7440265 ],\n",
       "       [0.74652886],\n",
       "       [0.7502833 ],\n",
       "       [0.75487477],\n",
       "       [0.75879604]], dtype=float32)"
      ]
     },
     "execution_count": 30,
     "metadata": {},
     "output_type": "execute_result"
    }
   ],
   "source": [
    "yp"
   ]
  },
  {
   "cell_type": "code",
   "execution_count": 31,
   "id": "bbb9e6d3",
   "metadata": {},
   "outputs": [
    {
     "data": {
      "text/plain": [
       "[<matplotlib.lines.Line2D at 0x17a0f788c40>]"
      ]
     },
     "execution_count": 31,
     "metadata": {},
     "output_type": "execute_result"
    },
    {
     "data": {
      "image/png": "[encoded data removed]",
      "text/plain": [
       "<Figure size 640x480 with 1 Axes>"
      ]
     },
     "metadata": {},
     "output_type": "display_data"
    }
   ],
   "source": [
    "plt.plot(x_test_scaled,c='blue')\n",
    "plt.plot(yp,c='red')\n"
   ]
  },
  {
   "cell_type": "code",
   "execution_count": null,
   "id": "babd0570",
   "metadata": {},
   "outputs": [],
   "source": []
  }
 ],
 "metadata": {
  "kernelspec": {
   "display_name": "Python [conda env:dsml_25_tf]",
   "language": "python",
   "name": "conda-env-dsml_25_tf-py"
  },
  "language_info": {
   "codemirror_mode": {
    "name": "ipython",
    "version": 3
   },
   "file_extension": ".py",
   "mimetype": "text/x-python",
   "name": "python",
   "nbconvert_exporter": "python",
   "pygments_lexer": "ipython3",
   "version": "3.10.13"
  }
 },
 "nbformat": 4,
 "nbformat_minor": 5
}
